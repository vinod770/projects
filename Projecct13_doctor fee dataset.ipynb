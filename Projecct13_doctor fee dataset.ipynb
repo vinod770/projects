{
 "cells": [
  {
   "cell_type": "code",
   "execution_count": 120,
   "metadata": {},
   "outputs": [],
   "source": [
    "import numpy as np\n",
    "import pandas as pd\n",
    "import sklearn\n",
    "import seaborn as sns\n",
    "import matplotlib.pyplot as plt\n",
    "from sklearn.linear_model import LinearRegression\n",
    "from sklearn.metrics import r2_score,mean_squared_error,mean_absolute_error\n",
    "from sklearn.model_selection import train_test_split\n",
    "import warnings\n",
    "warnings.filterwarnings('ignore')\n",
    "\n"
   ]
  },
  {
   "cell_type": "code",
   "execution_count": 121,
   "metadata": {
    "scrolled": false
   },
   "outputs": [
    {
     "data": {
      "text/html": [
       "<div>\n",
       "<style scoped>\n",
       "    .dataframe tbody tr th:only-of-type {\n",
       "        vertical-align: middle;\n",
       "    }\n",
       "\n",
       "    .dataframe tbody tr th {\n",
       "        vertical-align: top;\n",
       "    }\n",
       "\n",
       "    .dataframe thead th {\n",
       "        text-align: right;\n",
       "    }\n",
       "</style>\n",
       "<table border=\"1\" class=\"dataframe\">\n",
       "  <thead>\n",
       "    <tr style=\"text-align: right;\">\n",
       "      <th></th>\n",
       "      <th>Qualification</th>\n",
       "      <th>Experience</th>\n",
       "      <th>Rating</th>\n",
       "      <th>Place</th>\n",
       "      <th>Profile</th>\n",
       "      <th>Miscellaneous_Info</th>\n",
       "      <th>Fees</th>\n",
       "    </tr>\n",
       "  </thead>\n",
       "  <tbody>\n",
       "    <tr>\n",
       "      <th>0</th>\n",
       "      <td>BHMSandMDinHomeopathy</td>\n",
       "      <td>24</td>\n",
       "      <td>100.0</td>\n",
       "      <td>KakkanadandErnakulam</td>\n",
       "      <td>Homeopath</td>\n",
       "      <td>10016FeedbackKakkanadandErnakulam</td>\n",
       "      <td>100</td>\n",
       "    </tr>\n",
       "    <tr>\n",
       "      <th>1</th>\n",
       "      <td>BAMSandMDinAyurvedaMedicine</td>\n",
       "      <td>12</td>\n",
       "      <td>98.0</td>\n",
       "      <td>WhitefieldandBangalore</td>\n",
       "      <td>Ayurveda</td>\n",
       "      <td>9876FeedbackWhitefieldandBangalore</td>\n",
       "      <td>350</td>\n",
       "    </tr>\n",
       "    <tr>\n",
       "      <th>2</th>\n",
       "      <td>MBBSandMSinOtorhinolaryngology</td>\n",
       "      <td>9</td>\n",
       "      <td>NaN</td>\n",
       "      <td>MathikereinBELandBangalore</td>\n",
       "      <td>ENTSpecialist</td>\n",
       "      <td>NaN</td>\n",
       "      <td>300</td>\n",
       "    </tr>\n",
       "    <tr>\n",
       "      <th>3</th>\n",
       "      <td>BScinZoologyandBAMS</td>\n",
       "      <td>12</td>\n",
       "      <td>NaN</td>\n",
       "      <td>BannerghattaRoadandBangalore</td>\n",
       "      <td>Ayurveda</td>\n",
       "      <td>BannerghattaRoadandBangalore₹250AvailableonSun...</td>\n",
       "      <td>250</td>\n",
       "    </tr>\n",
       "    <tr>\n",
       "      <th>4</th>\n",
       "      <td>BAMS</td>\n",
       "      <td>20</td>\n",
       "      <td>100.0</td>\n",
       "      <td>KeelkattalaiandChennai</td>\n",
       "      <td>Ayurveda</td>\n",
       "      <td>1004FeedbackKeelkattalaiandChennai</td>\n",
       "      <td>250</td>\n",
       "    </tr>\n",
       "    <tr>\n",
       "      <th>...</th>\n",
       "      <td>...</td>\n",
       "      <td>...</td>\n",
       "      <td>...</td>\n",
       "      <td>...</td>\n",
       "      <td>...</td>\n",
       "      <td>...</td>\n",
       "      <td>...</td>\n",
       "    </tr>\n",
       "    <tr>\n",
       "      <th>5956</th>\n",
       "      <td>MBBSandMSinENT</td>\n",
       "      <td>19</td>\n",
       "      <td>98.0</td>\n",
       "      <td>BasavanagudiandBangalore</td>\n",
       "      <td>ENTSpecialist</td>\n",
       "      <td>9845FeedbackBasavanagudiandBangalore</td>\n",
       "      <td>300</td>\n",
       "    </tr>\n",
       "    <tr>\n",
       "      <th>5957</th>\n",
       "      <td>MBBS</td>\n",
       "      <td>33</td>\n",
       "      <td>NaN</td>\n",
       "      <td>NungambakkamandChennai</td>\n",
       "      <td>GeneralMedicine</td>\n",
       "      <td>NaN</td>\n",
       "      <td>100</td>\n",
       "    </tr>\n",
       "    <tr>\n",
       "      <th>5958</th>\n",
       "      <td>MBBS</td>\n",
       "      <td>41</td>\n",
       "      <td>97.0</td>\n",
       "      <td>GreaterKailashPart2andDelhi</td>\n",
       "      <td>GeneralMedicine</td>\n",
       "      <td>9711FeedbackGreaterKailashPart2andDelhi</td>\n",
       "      <td>600</td>\n",
       "    </tr>\n",
       "    <tr>\n",
       "      <th>5959</th>\n",
       "      <td>MBBSandMDinGeneralMedicine</td>\n",
       "      <td>15</td>\n",
       "      <td>90.0</td>\n",
       "      <td>VileparleWestandMumbai</td>\n",
       "      <td>GeneralMedicine</td>\n",
       "      <td>GeneralMedicalConsultationViralFeverTreatmentI...</td>\n",
       "      <td>100</td>\n",
       "    </tr>\n",
       "    <tr>\n",
       "      <th>5960</th>\n",
       "      <td>BDSandMDSinOrthodontics</td>\n",
       "      <td>17</td>\n",
       "      <td>100.0</td>\n",
       "      <td>PitampuraandDelhi</td>\n",
       "      <td>Dentist</td>\n",
       "      <td>AcrylicPartialDentureCrownsandBridgesFixingArt...</td>\n",
       "      <td>200</td>\n",
       "    </tr>\n",
       "  </tbody>\n",
       "</table>\n",
       "<p>5961 rows × 7 columns</p>\n",
       "</div>"
      ],
      "text/plain": [
       "                       Qualification  Experience  Rating  \\\n",
       "0              BHMSandMDinHomeopathy          24   100.0   \n",
       "1        BAMSandMDinAyurvedaMedicine          12    98.0   \n",
       "2     MBBSandMSinOtorhinolaryngology           9     NaN   \n",
       "3                BScinZoologyandBAMS          12     NaN   \n",
       "4                               BAMS          20   100.0   \n",
       "...                              ...         ...     ...   \n",
       "5956                  MBBSandMSinENT          19    98.0   \n",
       "5957                            MBBS          33     NaN   \n",
       "5958                            MBBS          41    97.0   \n",
       "5959      MBBSandMDinGeneralMedicine          15    90.0   \n",
       "5960         BDSandMDSinOrthodontics          17   100.0   \n",
       "\n",
       "                             Place          Profile  \\\n",
       "0             KakkanadandErnakulam        Homeopath   \n",
       "1           WhitefieldandBangalore         Ayurveda   \n",
       "2       MathikereinBELandBangalore    ENTSpecialist   \n",
       "3     BannerghattaRoadandBangalore         Ayurveda   \n",
       "4           KeelkattalaiandChennai         Ayurveda   \n",
       "...                            ...              ...   \n",
       "5956      BasavanagudiandBangalore    ENTSpecialist   \n",
       "5957        NungambakkamandChennai  GeneralMedicine   \n",
       "5958   GreaterKailashPart2andDelhi  GeneralMedicine   \n",
       "5959        VileparleWestandMumbai  GeneralMedicine   \n",
       "5960             PitampuraandDelhi          Dentist   \n",
       "\n",
       "                                     Miscellaneous_Info  Fees  \n",
       "0                     10016FeedbackKakkanadandErnakulam   100  \n",
       "1                    9876FeedbackWhitefieldandBangalore   350  \n",
       "2                                                   NaN   300  \n",
       "3     BannerghattaRoadandBangalore₹250AvailableonSun...   250  \n",
       "4                    1004FeedbackKeelkattalaiandChennai   250  \n",
       "...                                                 ...   ...  \n",
       "5956               9845FeedbackBasavanagudiandBangalore   300  \n",
       "5957                                                NaN   100  \n",
       "5958            9711FeedbackGreaterKailashPart2andDelhi   600  \n",
       "5959  GeneralMedicalConsultationViralFeverTreatmentI...   100  \n",
       "5960  AcrylicPartialDentureCrownsandBridgesFixingArt...   200  \n",
       "\n",
       "[5961 rows x 7 columns]"
      ]
     },
     "execution_count": 121,
     "metadata": {},
     "output_type": "execute_result"
    }
   ],
   "source": [
    "fee=pd.read_excel('fee_Train.xlsx')\n",
    "fee"
   ]
  },
  {
   "cell_type": "code",
   "execution_count": 122,
   "metadata": {},
   "outputs": [
    {
     "data": {
      "text/plain": [
       "Qualification            0\n",
       "Experience               0\n",
       "Rating                3302\n",
       "Place                   25\n",
       "Profile                  0\n",
       "Miscellaneous_Info    2620\n",
       "Fees                     0\n",
       "dtype: int64"
      ]
     },
     "execution_count": 122,
     "metadata": {},
     "output_type": "execute_result"
    }
   ],
   "source": [
    "fee.isnull().sum()"
   ]
  },
  {
   "cell_type": "code",
   "execution_count": 123,
   "metadata": {},
   "outputs": [],
   "source": [
    "fee.drop(['Miscellaneous_Info'],axis=1,inplace=True)"
   ]
  },
  {
   "cell_type": "code",
   "execution_count": 124,
   "metadata": {},
   "outputs": [],
   "source": [
    "fee['Rating'].fillna(fee['Rating'].mean(),inplace=True)"
   ]
  },
  {
   "cell_type": "code",
   "execution_count": 125,
   "metadata": {},
   "outputs": [
    {
     "data": {
      "text/plain": [
       "Qualification     0\n",
       "Experience        0\n",
       "Rating            0\n",
       "Place            25\n",
       "Profile           0\n",
       "Fees              0\n",
       "dtype: int64"
      ]
     },
     "execution_count": 125,
     "metadata": {},
     "output_type": "execute_result"
    }
   ],
   "source": [
    "fee.isnull().sum()"
   ]
  },
  {
   "cell_type": "code",
   "execution_count": 126,
   "metadata": {},
   "outputs": [],
   "source": [
    "fee.dropna(axis=0,inplace=True)"
   ]
  },
  {
   "cell_type": "code",
   "execution_count": 127,
   "metadata": {},
   "outputs": [
    {
     "data": {
      "text/plain": [
       "Qualification    0\n",
       "Experience       0\n",
       "Rating           0\n",
       "Place            0\n",
       "Profile          0\n",
       "Fees             0\n",
       "dtype: int64"
      ]
     },
     "execution_count": 127,
     "metadata": {},
     "output_type": "execute_result"
    }
   ],
   "source": [
    "fee.isna().sum()"
   ]
  },
  {
   "cell_type": "code",
   "execution_count": 128,
   "metadata": {},
   "outputs": [
    {
     "data": {
      "text/html": [
       "<div>\n",
       "<style scoped>\n",
       "    .dataframe tbody tr th:only-of-type {\n",
       "        vertical-align: middle;\n",
       "    }\n",
       "\n",
       "    .dataframe tbody tr th {\n",
       "        vertical-align: top;\n",
       "    }\n",
       "\n",
       "    .dataframe thead th {\n",
       "        text-align: right;\n",
       "    }\n",
       "</style>\n",
       "<table border=\"1\" class=\"dataframe\">\n",
       "  <thead>\n",
       "    <tr style=\"text-align: right;\">\n",
       "      <th></th>\n",
       "      <th>Qualification</th>\n",
       "      <th>Experience</th>\n",
       "      <th>Rating</th>\n",
       "      <th>Place</th>\n",
       "      <th>Profile</th>\n",
       "      <th>Fees</th>\n",
       "    </tr>\n",
       "  </thead>\n",
       "  <tbody>\n",
       "    <tr>\n",
       "      <th>0</th>\n",
       "      <td>BHMSandMDinHomeopathy</td>\n",
       "      <td>24</td>\n",
       "      <td>100.000000</td>\n",
       "      <td>KakkanadandErnakulam</td>\n",
       "      <td>Homeopath</td>\n",
       "      <td>100</td>\n",
       "    </tr>\n",
       "    <tr>\n",
       "      <th>1</th>\n",
       "      <td>BAMSandMDinAyurvedaMedicine</td>\n",
       "      <td>12</td>\n",
       "      <td>98.000000</td>\n",
       "      <td>WhitefieldandBangalore</td>\n",
       "      <td>Ayurveda</td>\n",
       "      <td>350</td>\n",
       "    </tr>\n",
       "    <tr>\n",
       "      <th>2</th>\n",
       "      <td>MBBSandMSinOtorhinolaryngology</td>\n",
       "      <td>9</td>\n",
       "      <td>94.643475</td>\n",
       "      <td>MathikereinBELandBangalore</td>\n",
       "      <td>ENTSpecialist</td>\n",
       "      <td>300</td>\n",
       "    </tr>\n",
       "    <tr>\n",
       "      <th>3</th>\n",
       "      <td>BScinZoologyandBAMS</td>\n",
       "      <td>12</td>\n",
       "      <td>94.643475</td>\n",
       "      <td>BannerghattaRoadandBangalore</td>\n",
       "      <td>Ayurveda</td>\n",
       "      <td>250</td>\n",
       "    </tr>\n",
       "    <tr>\n",
       "      <th>4</th>\n",
       "      <td>BAMS</td>\n",
       "      <td>20</td>\n",
       "      <td>100.000000</td>\n",
       "      <td>KeelkattalaiandChennai</td>\n",
       "      <td>Ayurveda</td>\n",
       "      <td>250</td>\n",
       "    </tr>\n",
       "    <tr>\n",
       "      <th>...</th>\n",
       "      <td>...</td>\n",
       "      <td>...</td>\n",
       "      <td>...</td>\n",
       "      <td>...</td>\n",
       "      <td>...</td>\n",
       "      <td>...</td>\n",
       "    </tr>\n",
       "    <tr>\n",
       "      <th>5956</th>\n",
       "      <td>MBBSandMSinENT</td>\n",
       "      <td>19</td>\n",
       "      <td>98.000000</td>\n",
       "      <td>BasavanagudiandBangalore</td>\n",
       "      <td>ENTSpecialist</td>\n",
       "      <td>300</td>\n",
       "    </tr>\n",
       "    <tr>\n",
       "      <th>5957</th>\n",
       "      <td>MBBS</td>\n",
       "      <td>33</td>\n",
       "      <td>94.643475</td>\n",
       "      <td>NungambakkamandChennai</td>\n",
       "      <td>GeneralMedicine</td>\n",
       "      <td>100</td>\n",
       "    </tr>\n",
       "    <tr>\n",
       "      <th>5958</th>\n",
       "      <td>MBBS</td>\n",
       "      <td>41</td>\n",
       "      <td>97.000000</td>\n",
       "      <td>GreaterKailashPart2andDelhi</td>\n",
       "      <td>GeneralMedicine</td>\n",
       "      <td>600</td>\n",
       "    </tr>\n",
       "    <tr>\n",
       "      <th>5959</th>\n",
       "      <td>MBBSandMDinGeneralMedicine</td>\n",
       "      <td>15</td>\n",
       "      <td>90.000000</td>\n",
       "      <td>VileparleWestandMumbai</td>\n",
       "      <td>GeneralMedicine</td>\n",
       "      <td>100</td>\n",
       "    </tr>\n",
       "    <tr>\n",
       "      <th>5960</th>\n",
       "      <td>BDSandMDSinOrthodontics</td>\n",
       "      <td>17</td>\n",
       "      <td>100.000000</td>\n",
       "      <td>PitampuraandDelhi</td>\n",
       "      <td>Dentist</td>\n",
       "      <td>200</td>\n",
       "    </tr>\n",
       "  </tbody>\n",
       "</table>\n",
       "<p>5936 rows × 6 columns</p>\n",
       "</div>"
      ],
      "text/plain": [
       "                       Qualification  Experience      Rating  \\\n",
       "0              BHMSandMDinHomeopathy          24  100.000000   \n",
       "1        BAMSandMDinAyurvedaMedicine          12   98.000000   \n",
       "2     MBBSandMSinOtorhinolaryngology           9   94.643475   \n",
       "3                BScinZoologyandBAMS          12   94.643475   \n",
       "4                               BAMS          20  100.000000   \n",
       "...                              ...         ...         ...   \n",
       "5956                  MBBSandMSinENT          19   98.000000   \n",
       "5957                            MBBS          33   94.643475   \n",
       "5958                            MBBS          41   97.000000   \n",
       "5959      MBBSandMDinGeneralMedicine          15   90.000000   \n",
       "5960         BDSandMDSinOrthodontics          17  100.000000   \n",
       "\n",
       "                             Place          Profile  Fees  \n",
       "0             KakkanadandErnakulam        Homeopath   100  \n",
       "1           WhitefieldandBangalore         Ayurveda   350  \n",
       "2       MathikereinBELandBangalore    ENTSpecialist   300  \n",
       "3     BannerghattaRoadandBangalore         Ayurveda   250  \n",
       "4           KeelkattalaiandChennai         Ayurveda   250  \n",
       "...                            ...              ...   ...  \n",
       "5956      BasavanagudiandBangalore    ENTSpecialist   300  \n",
       "5957        NungambakkamandChennai  GeneralMedicine   100  \n",
       "5958   GreaterKailashPart2andDelhi  GeneralMedicine   600  \n",
       "5959        VileparleWestandMumbai  GeneralMedicine   100  \n",
       "5960             PitampuraandDelhi          Dentist   200  \n",
       "\n",
       "[5936 rows x 6 columns]"
      ]
     },
     "execution_count": 128,
     "metadata": {},
     "output_type": "execute_result"
    }
   ],
   "source": [
    "fee"
   ]
  },
  {
   "cell_type": "code",
   "execution_count": null,
   "metadata": {},
   "outputs": [],
   "source": []
  },
  {
   "cell_type": "code",
   "execution_count": 129,
   "metadata": {},
   "outputs": [],
   "source": [
    "fee.drop(['Qualification'],axis=1,inplace=True)"
   ]
  },
  {
   "cell_type": "code",
   "execution_count": 130,
   "metadata": {},
   "outputs": [],
   "source": [
    "from sklearn.preprocessing import LabelEncoder\n",
    "le=LabelEncoder()\n",
    "Place=le.fit_transform(fee['Place'])\n",
    "Profile=le.fit_transform(fee['Profile'])\n",
    "\n",
    "\n",
    "fee['Place']=Place\n",
    "fee['Profile']=Profile"
   ]
  },
  {
   "cell_type": "code",
   "execution_count": 131,
   "metadata": {},
   "outputs": [
    {
     "data": {
      "text/html": [
       "<div>\n",
       "<style scoped>\n",
       "    .dataframe tbody tr th:only-of-type {\n",
       "        vertical-align: middle;\n",
       "    }\n",
       "\n",
       "    .dataframe tbody tr th {\n",
       "        vertical-align: top;\n",
       "    }\n",
       "\n",
       "    .dataframe thead th {\n",
       "        text-align: right;\n",
       "    }\n",
       "</style>\n",
       "<table border=\"1\" class=\"dataframe\">\n",
       "  <thead>\n",
       "    <tr style=\"text-align: right;\">\n",
       "      <th></th>\n",
       "      <th>Experience</th>\n",
       "      <th>Rating</th>\n",
       "      <th>Place</th>\n",
       "      <th>Profile</th>\n",
       "      <th>Fees</th>\n",
       "    </tr>\n",
       "  </thead>\n",
       "  <tbody>\n",
       "    <tr>\n",
       "      <th>0</th>\n",
       "      <td>24</td>\n",
       "      <td>100.000000</td>\n",
       "      <td>299</td>\n",
       "      <td>5</td>\n",
       "      <td>100</td>\n",
       "    </tr>\n",
       "    <tr>\n",
       "      <th>1</th>\n",
       "      <td>12</td>\n",
       "      <td>98.000000</td>\n",
       "      <td>866</td>\n",
       "      <td>0</td>\n",
       "      <td>350</td>\n",
       "    </tr>\n",
       "    <tr>\n",
       "      <th>2</th>\n",
       "      <td>9</td>\n",
       "      <td>94.643475</td>\n",
       "      <td>457</td>\n",
       "      <td>3</td>\n",
       "      <td>300</td>\n",
       "    </tr>\n",
       "    <tr>\n",
       "      <th>3</th>\n",
       "      <td>12</td>\n",
       "      <td>94.643475</td>\n",
       "      <td>68</td>\n",
       "      <td>0</td>\n",
       "      <td>250</td>\n",
       "    </tr>\n",
       "    <tr>\n",
       "      <th>4</th>\n",
       "      <td>20</td>\n",
       "      <td>100.000000</td>\n",
       "      <td>337</td>\n",
       "      <td>0</td>\n",
       "      <td>250</td>\n",
       "    </tr>\n",
       "    <tr>\n",
       "      <th>...</th>\n",
       "      <td>...</td>\n",
       "      <td>...</td>\n",
       "      <td>...</td>\n",
       "      <td>...</td>\n",
       "      <td>...</td>\n",
       "    </tr>\n",
       "    <tr>\n",
       "      <th>5956</th>\n",
       "      <td>19</td>\n",
       "      <td>98.000000</td>\n",
       "      <td>70</td>\n",
       "      <td>3</td>\n",
       "      <td>300</td>\n",
       "    </tr>\n",
       "    <tr>\n",
       "      <th>5957</th>\n",
       "      <td>33</td>\n",
       "      <td>94.643475</td>\n",
       "      <td>541</td>\n",
       "      <td>4</td>\n",
       "      <td>100</td>\n",
       "    </tr>\n",
       "    <tr>\n",
       "      <th>5958</th>\n",
       "      <td>41</td>\n",
       "      <td>97.000000</td>\n",
       "      <td>216</td>\n",
       "      <td>4</td>\n",
       "      <td>600</td>\n",
       "    </tr>\n",
       "    <tr>\n",
       "      <th>5959</th>\n",
       "      <td>15</td>\n",
       "      <td>90.000000</td>\n",
       "      <td>850</td>\n",
       "      <td>4</td>\n",
       "      <td>100</td>\n",
       "    </tr>\n",
       "    <tr>\n",
       "      <th>5960</th>\n",
       "      <td>17</td>\n",
       "      <td>100.000000</td>\n",
       "      <td>603</td>\n",
       "      <td>1</td>\n",
       "      <td>200</td>\n",
       "    </tr>\n",
       "  </tbody>\n",
       "</table>\n",
       "<p>5936 rows × 5 columns</p>\n",
       "</div>"
      ],
      "text/plain": [
       "      Experience      Rating  Place  Profile  Fees\n",
       "0             24  100.000000    299        5   100\n",
       "1             12   98.000000    866        0   350\n",
       "2              9   94.643475    457        3   300\n",
       "3             12   94.643475     68        0   250\n",
       "4             20  100.000000    337        0   250\n",
       "...          ...         ...    ...      ...   ...\n",
       "5956          19   98.000000     70        3   300\n",
       "5957          33   94.643475    541        4   100\n",
       "5958          41   97.000000    216        4   600\n",
       "5959          15   90.000000    850        4   100\n",
       "5960          17  100.000000    603        1   200\n",
       "\n",
       "[5936 rows x 5 columns]"
      ]
     },
     "execution_count": 131,
     "metadata": {},
     "output_type": "execute_result"
    }
   ],
   "source": [
    "fee"
   ]
  },
  {
   "cell_type": "code",
   "execution_count": 132,
   "metadata": {},
   "outputs": [
    {
     "data": {
      "text/html": [
       "<div>\n",
       "<style scoped>\n",
       "    .dataframe tbody tr th:only-of-type {\n",
       "        vertical-align: middle;\n",
       "    }\n",
       "\n",
       "    .dataframe tbody tr th {\n",
       "        vertical-align: top;\n",
       "    }\n",
       "\n",
       "    .dataframe thead th {\n",
       "        text-align: right;\n",
       "    }\n",
       "</style>\n",
       "<table border=\"1\" class=\"dataframe\">\n",
       "  <thead>\n",
       "    <tr style=\"text-align: right;\">\n",
       "      <th></th>\n",
       "      <th>Experience</th>\n",
       "      <th>Rating</th>\n",
       "      <th>Place</th>\n",
       "      <th>Profile</th>\n",
       "    </tr>\n",
       "  </thead>\n",
       "  <tbody>\n",
       "    <tr>\n",
       "      <th>0</th>\n",
       "      <td>24</td>\n",
       "      <td>100.000000</td>\n",
       "      <td>299</td>\n",
       "      <td>5</td>\n",
       "    </tr>\n",
       "    <tr>\n",
       "      <th>1</th>\n",
       "      <td>12</td>\n",
       "      <td>98.000000</td>\n",
       "      <td>866</td>\n",
       "      <td>0</td>\n",
       "    </tr>\n",
       "    <tr>\n",
       "      <th>2</th>\n",
       "      <td>9</td>\n",
       "      <td>94.643475</td>\n",
       "      <td>457</td>\n",
       "      <td>3</td>\n",
       "    </tr>\n",
       "    <tr>\n",
       "      <th>3</th>\n",
       "      <td>12</td>\n",
       "      <td>94.643475</td>\n",
       "      <td>68</td>\n",
       "      <td>0</td>\n",
       "    </tr>\n",
       "    <tr>\n",
       "      <th>4</th>\n",
       "      <td>20</td>\n",
       "      <td>100.000000</td>\n",
       "      <td>337</td>\n",
       "      <td>0</td>\n",
       "    </tr>\n",
       "    <tr>\n",
       "      <th>...</th>\n",
       "      <td>...</td>\n",
       "      <td>...</td>\n",
       "      <td>...</td>\n",
       "      <td>...</td>\n",
       "    </tr>\n",
       "    <tr>\n",
       "      <th>5956</th>\n",
       "      <td>19</td>\n",
       "      <td>98.000000</td>\n",
       "      <td>70</td>\n",
       "      <td>3</td>\n",
       "    </tr>\n",
       "    <tr>\n",
       "      <th>5957</th>\n",
       "      <td>33</td>\n",
       "      <td>94.643475</td>\n",
       "      <td>541</td>\n",
       "      <td>4</td>\n",
       "    </tr>\n",
       "    <tr>\n",
       "      <th>5958</th>\n",
       "      <td>41</td>\n",
       "      <td>97.000000</td>\n",
       "      <td>216</td>\n",
       "      <td>4</td>\n",
       "    </tr>\n",
       "    <tr>\n",
       "      <th>5959</th>\n",
       "      <td>15</td>\n",
       "      <td>90.000000</td>\n",
       "      <td>850</td>\n",
       "      <td>4</td>\n",
       "    </tr>\n",
       "    <tr>\n",
       "      <th>5960</th>\n",
       "      <td>17</td>\n",
       "      <td>100.000000</td>\n",
       "      <td>603</td>\n",
       "      <td>1</td>\n",
       "    </tr>\n",
       "  </tbody>\n",
       "</table>\n",
       "<p>5936 rows × 4 columns</p>\n",
       "</div>"
      ],
      "text/plain": [
       "      Experience      Rating  Place  Profile\n",
       "0             24  100.000000    299        5\n",
       "1             12   98.000000    866        0\n",
       "2              9   94.643475    457        3\n",
       "3             12   94.643475     68        0\n",
       "4             20  100.000000    337        0\n",
       "...          ...         ...    ...      ...\n",
       "5956          19   98.000000     70        3\n",
       "5957          33   94.643475    541        4\n",
       "5958          41   97.000000    216        4\n",
       "5959          15   90.000000    850        4\n",
       "5960          17  100.000000    603        1\n",
       "\n",
       "[5936 rows x 4 columns]"
      ]
     },
     "execution_count": 132,
     "metadata": {},
     "output_type": "execute_result"
    }
   ],
   "source": [
    "x=fee.iloc[:,0:4]\n",
    "x"
   ]
  },
  {
   "cell_type": "code",
   "execution_count": 133,
   "metadata": {},
   "outputs": [
    {
     "data": {
      "text/html": [
       "<div>\n",
       "<style scoped>\n",
       "    .dataframe tbody tr th:only-of-type {\n",
       "        vertical-align: middle;\n",
       "    }\n",
       "\n",
       "    .dataframe tbody tr th {\n",
       "        vertical-align: top;\n",
       "    }\n",
       "\n",
       "    .dataframe thead th {\n",
       "        text-align: right;\n",
       "    }\n",
       "</style>\n",
       "<table border=\"1\" class=\"dataframe\">\n",
       "  <thead>\n",
       "    <tr style=\"text-align: right;\">\n",
       "      <th></th>\n",
       "      <th>Fees</th>\n",
       "    </tr>\n",
       "  </thead>\n",
       "  <tbody>\n",
       "    <tr>\n",
       "      <th>0</th>\n",
       "      <td>100</td>\n",
       "    </tr>\n",
       "    <tr>\n",
       "      <th>1</th>\n",
       "      <td>350</td>\n",
       "    </tr>\n",
       "    <tr>\n",
       "      <th>2</th>\n",
       "      <td>300</td>\n",
       "    </tr>\n",
       "    <tr>\n",
       "      <th>3</th>\n",
       "      <td>250</td>\n",
       "    </tr>\n",
       "    <tr>\n",
       "      <th>4</th>\n",
       "      <td>250</td>\n",
       "    </tr>\n",
       "    <tr>\n",
       "      <th>...</th>\n",
       "      <td>...</td>\n",
       "    </tr>\n",
       "    <tr>\n",
       "      <th>5956</th>\n",
       "      <td>300</td>\n",
       "    </tr>\n",
       "    <tr>\n",
       "      <th>5957</th>\n",
       "      <td>100</td>\n",
       "    </tr>\n",
       "    <tr>\n",
       "      <th>5958</th>\n",
       "      <td>600</td>\n",
       "    </tr>\n",
       "    <tr>\n",
       "      <th>5959</th>\n",
       "      <td>100</td>\n",
       "    </tr>\n",
       "    <tr>\n",
       "      <th>5960</th>\n",
       "      <td>200</td>\n",
       "    </tr>\n",
       "  </tbody>\n",
       "</table>\n",
       "<p>5936 rows × 1 columns</p>\n",
       "</div>"
      ],
      "text/plain": [
       "      Fees\n",
       "0      100\n",
       "1      350\n",
       "2      300\n",
       "3      250\n",
       "4      250\n",
       "...    ...\n",
       "5956   300\n",
       "5957   100\n",
       "5958   600\n",
       "5959   100\n",
       "5960   200\n",
       "\n",
       "[5936 rows x 1 columns]"
      ]
     },
     "execution_count": 133,
     "metadata": {},
     "output_type": "execute_result"
    }
   ],
   "source": [
    "y=fee.iloc[:,4:5]\n",
    "y"
   ]
  },
  {
   "cell_type": "code",
   "execution_count": 134,
   "metadata": {},
   "outputs": [],
   "source": [
    "x_train,x_test,y_train,y_test=train_test_split(x,y,test_size=.33,random_state=45)"
   ]
  },
  {
   "cell_type": "code",
   "execution_count": 135,
   "metadata": {},
   "outputs": [
    {
     "data": {
      "text/plain": [
       "(3977, 4)"
      ]
     },
     "execution_count": 135,
     "metadata": {},
     "output_type": "execute_result"
    }
   ],
   "source": [
    "x_train.shape"
   ]
  },
  {
   "cell_type": "code",
   "execution_count": 136,
   "metadata": {},
   "outputs": [
    {
     "data": {
      "text/plain": [
       "(3977, 1)"
      ]
     },
     "execution_count": 136,
     "metadata": {},
     "output_type": "execute_result"
    }
   ],
   "source": [
    "y_train.shape"
   ]
  },
  {
   "cell_type": "code",
   "execution_count": 137,
   "metadata": {},
   "outputs": [
    {
     "data": {
      "text/plain": [
       "(1959, 4)"
      ]
     },
     "execution_count": 137,
     "metadata": {},
     "output_type": "execute_result"
    }
   ],
   "source": [
    "x_test.shape"
   ]
  },
  {
   "cell_type": "code",
   "execution_count": 138,
   "metadata": {},
   "outputs": [
    {
     "data": {
      "text/plain": [
       "(1959, 1)"
      ]
     },
     "execution_count": 138,
     "metadata": {},
     "output_type": "execute_result"
    }
   ],
   "source": [
    "y_test.shape"
   ]
  },
  {
   "cell_type": "code",
   "execution_count": 139,
   "metadata": {},
   "outputs": [
    {
     "name": "stdout",
     "output_type": "stream",
     "text": [
      "[[288.01818726]\n",
      " [281.38437031]\n",
      " [302.05705612]\n",
      " ...\n",
      " [358.15248211]\n",
      " [327.29648165]\n",
      " [285.41005166]]\n",
      "score:  0.02943162287128409\n",
      "Mean absolute error:  153.67900044872607\n",
      "Mean squared error:   34776.06723507424\n",
      "Root mean squared error:  186.48342348604135\n",
      "r2score:  0.03628019468649113\n"
     ]
    }
   ],
   "source": [
    "lr=LinearRegression()\n",
    "lr.fit(x_train,y_train)\n",
    "pred=lr.predict(x_test)\n",
    "print(pred)\n",
    "print(\"score: \",lr.score(x_train,y_train))\n",
    "print('Mean absolute error: ',mean_absolute_error(y_test,pred))\n",
    "print('Mean squared error:  ',mean_squared_error(y_test,pred))\n",
    "print('Root mean squared error: ',np.sqrt(mean_squared_error(y_test,pred)))\n",
    "print('r2score: ',r2_score(y_test,pred))"
   ]
  },
  {
   "cell_type": "code",
   "execution_count": 140,
   "metadata": {},
   "outputs": [
    {
     "data": {
      "text/plain": [
       "0.029431621679191115"
      ]
     },
     "execution_count": 140,
     "metadata": {},
     "output_type": "execute_result"
    }
   ],
   "source": [
    "from sklearn.linear_model import Lasso,Ridge\n",
    "ls=Lasso(alpha=0.01)\n",
    "ls.fit(x_train,y_train)\n",
    "ls.score(x_train,y_train)"
   ]
  },
  {
   "cell_type": "code",
   "execution_count": 141,
   "metadata": {},
   "outputs": [
    {
     "data": {
      "text/plain": [
       "0.029431622871267882"
      ]
     },
     "execution_count": 141,
     "metadata": {},
     "output_type": "execute_result"
    }
   ],
   "source": [
    "rd=Ridge(alpha=0.01)              \n",
    "rd.fit(x_train,y_train)\n",
    "rd.score(x_train,y_train)"
   ]
  },
  {
   "cell_type": "code",
   "execution_count": 142,
   "metadata": {},
   "outputs": [
    {
     "name": "stdout",
     "output_type": "stream",
     "text": [
      "0.029431550012252727\n"
     ]
    },
    {
     "data": {
      "text/plain": [
       "array([-0.89679413, -3.04482461, -0.03906558, 15.71133468])"
      ]
     },
     "execution_count": 142,
     "metadata": {},
     "output_type": "execute_result"
    }
   ],
   "source": [
    "from sklearn.linear_model import ElasticNet\n",
    "enr=ElasticNet(alpha=0.01)\n",
    "enr.fit(x_train,y_train)\n",
    "enrpred=enr.predict(x_test)\n",
    "print(enr.score(x_train,y_train))\n",
    "enr.coef_\n"
   ]
  },
  {
   "cell_type": "code",
   "execution_count": 143,
   "metadata": {},
   "outputs": [
    {
     "name": "stdout",
     "output_type": "stream",
     "text": [
      "[0.00364697 0.01623833 0.05285754 0.02696782 0.02398477 0.04733908\n",
      " 0.02563227 0.02314795 0.05064996 0.01340729]\n",
      "0.028387198617701847\n"
     ]
    },
    {
     "data": {
      "text/plain": [
       "array([[337.60049978],\n",
       "       [239.36376389],\n",
       "       [323.67495678],\n",
       "       ...,\n",
       "       [318.27794417],\n",
       "       [334.710732  ],\n",
       "       [261.57743867]])"
      ]
     },
     "execution_count": 143,
     "metadata": {},
     "output_type": "execute_result"
    }
   ],
   "source": [
    "from sklearn.model_selection import cross_val_score,cross_val_predict\n",
    "lmc=LinearRegression()\n",
    "lmscore=cross_val_score(lmc,x,y,cv=10)\n",
    "print(lmscore)\n",
    "print(lmscore.mean())\n",
    "pred=cross_val_predict(lmc,x,y,cv=10)\n",
    "pred\n"
   ]
  },
  {
   "cell_type": "code",
   "execution_count": 144,
   "metadata": {},
   "outputs": [
    {
     "data": {
      "text/plain": [
       "0.8214163477319809"
      ]
     },
     "execution_count": 144,
     "metadata": {},
     "output_type": "execute_result"
    }
   ],
   "source": [
    "from sklearn.ensemble import RandomForestRegressor\n",
    "rf=RandomForestRegressor(n_estimators=10,random_state=45)\n",
    "rf.fit(x_train,y_train)\n",
    "rf.score(x_train,y_train)"
   ]
  },
  {
   "cell_type": "code",
   "execution_count": 145,
   "metadata": {},
   "outputs": [],
   "source": [
    "# random forest has more score than other models"
   ]
  },
  {
   "cell_type": "code",
   "execution_count": 146,
   "metadata": {},
   "outputs": [
    {
     "name": "stdout",
     "output_type": "stream",
     "text": [
      "[275. 155. 560. ... 216. 470.  71.]\n"
     ]
    }
   ],
   "source": [
    "from sklearn.externals import joblib\n",
    "joblib.dump(rf,'rffile.obj')\n",
    "rf_joblib=joblib.load('rffile.obj')\n",
    "predict=rf_joblib.predict(x_test)\n",
    "print(predict)"
   ]
  },
  {
   "cell_type": "code",
   "execution_count": null,
   "metadata": {},
   "outputs": [],
   "source": []
  }
 ],
 "metadata": {
  "kernelspec": {
   "display_name": "Python 3",
   "language": "python",
   "name": "python3"
  },
  "language_info": {
   "codemirror_mode": {
    "name": "ipython",
    "version": 3
   },
   "file_extension": ".py",
   "mimetype": "text/x-python",
   "name": "python",
   "nbconvert_exporter": "python",
   "pygments_lexer": "ipython3",
   "version": "3.7.6"
  }
 },
 "nbformat": 4,
 "nbformat_minor": 4
}
